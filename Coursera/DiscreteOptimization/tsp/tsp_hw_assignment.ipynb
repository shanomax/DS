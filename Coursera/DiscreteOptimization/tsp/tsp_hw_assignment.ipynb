{
 "cells": [
  {
   "cell_type": "markdown",
   "metadata": {},
   "source": [
    "Problem:\n",
    "- given a set of points with associated coordinates, determine the shortest path to traverse all of the points and return to where you started\n",
    "- distance is euclidean distance meaning that the path traversed from one point to another is a straight line"
   ]
  },
  {
   "cell_type": "code",
   "execution_count": 14,
   "metadata": {},
   "outputs": [
    {
     "ename": "ImportError",
     "evalue": "No module named mlrose",
     "output_type": "error",
     "traceback": [
      "\u001b[1;31m---------------------------------------------------------------------------\u001b[0m",
      "\u001b[1;31mImportError\u001b[0m                               Traceback (most recent call last)",
      "\u001b[1;32m<ipython-input-14-2c8df2b288e5>\u001b[0m in \u001b[0;36m<module>\u001b[1;34m()\u001b[0m\n\u001b[0;32m      7\u001b[0m \u001b[1;32mfrom\u001b[0m \u001b[0mpyomo\u001b[0m\u001b[1;33m.\u001b[0m\u001b[0menviron\u001b[0m \u001b[1;32mimport\u001b[0m \u001b[1;33m*\u001b[0m\u001b[1;33m\u001b[0m\u001b[0m\n\u001b[0;32m      8\u001b[0m \u001b[1;32mfrom\u001b[0m \u001b[0mpyomo\u001b[0m\u001b[1;33m.\u001b[0m\u001b[0mopt\u001b[0m \u001b[1;32mimport\u001b[0m \u001b[0mSolverFactory\u001b[0m\u001b[1;33m,\u001b[0m \u001b[0mTerminationCondition\u001b[0m\u001b[1;33m,\u001b[0m \u001b[0mSolverStatus\u001b[0m\u001b[1;33m\u001b[0m\u001b[0m\n\u001b[1;32m----> 9\u001b[1;33m \u001b[1;32mimport\u001b[0m \u001b[0mmlrose\u001b[0m\u001b[1;33m\u001b[0m\u001b[0m\n\u001b[0m\u001b[0;32m     10\u001b[0m \u001b[1;32mimport\u001b[0m \u001b[0mmath\u001b[0m\u001b[1;33m\u001b[0m\u001b[0m\n\u001b[0;32m     11\u001b[0m \u001b[1;32mfrom\u001b[0m \u001b[0mcollections\u001b[0m \u001b[1;32mimport\u001b[0m \u001b[0mnamedtuple\u001b[0m\u001b[1;33m\u001b[0m\u001b[0m\n",
      "\u001b[1;31mImportError\u001b[0m: No module named mlrose"
     ]
    }
   ],
   "source": [
    "#importing packages\n",
    "import pandas as pd\n",
    "import numpy as np\n",
    "import networkx as nx\n",
    "from networkx.algorithms import approximation as aprx\n",
    "import matplotlib.pyplot as plt\n",
    "from pyomo.environ import *\n",
    "from pyomo.opt import SolverFactory, TerminationCondition, SolverStatus\n",
    "import mlrose\n",
    "import math\n",
    "from collections import namedtuple\n",
    "\n",
    "%matplotlib inline"
   ]
  },
  {
   "cell_type": "markdown",
   "metadata": {},
   "source": [
    "potential online implementations\n",
    "- https://towardsdatascience.com/solving-travelling-salesperson-problems-with-python-5de7e883d847\n",
    "- https://pypi.org/project/tsp/"
   ]
  },
  {
   "cell_type": "markdown",
   "metadata": {},
   "source": [
    "read in data"
   ]
  },
  {
   "cell_type": "code",
   "execution_count": 5,
   "metadata": {},
   "outputs": [],
   "source": [
    "Point = namedtuple(\"Point\", ['x', 'y'])\n",
    "\n",
    "def length(point1, point2):\n",
    "    return math.sqrt((point1.x - point2.x)**2 + (point1.y - point2.y)**2)"
   ]
  },
  {
   "cell_type": "code",
   "execution_count": 9,
   "metadata": {},
   "outputs": [],
   "source": [
    "input_file = 'C://Users/campb/DS/Coursera/DiscreteOptimization/tsp/data/tsp_51_1'\n",
    "input_data = open(input_file, \"r\").read()\n",
    "\n",
    "lines = input_data.split('\\n')\n",
    "\n",
    "nodeCount = int(lines[0])\n",
    "\n",
    "points = []\n",
    "for i in range(1, nodeCount+1):\n",
    "    line = lines[i]\n",
    "    parts = line.split()\n",
    "    points.append(Point(float(parts[0]), float(parts[1])))"
   ]
  },
  {
   "cell_type": "code",
   "execution_count": 10,
   "metadata": {
    "scrolled": true
   },
   "outputs": [
    {
     "data": {
      "text/plain": [
       "[Point(x=27.0, y=68.0),\n",
       " Point(x=30.0, y=48.0),\n",
       " Point(x=43.0, y=67.0),\n",
       " Point(x=58.0, y=48.0),\n",
       " Point(x=58.0, y=27.0),\n",
       " Point(x=37.0, y=69.0),\n",
       " Point(x=38.0, y=46.0),\n",
       " Point(x=46.0, y=10.0),\n",
       " Point(x=61.0, y=33.0),\n",
       " Point(x=62.0, y=63.0),\n",
       " Point(x=63.0, y=69.0),\n",
       " Point(x=32.0, y=22.0),\n",
       " Point(x=45.0, y=35.0),\n",
       " Point(x=59.0, y=15.0),\n",
       " Point(x=5.0, y=6.0),\n",
       " Point(x=10.0, y=17.0),\n",
       " Point(x=21.0, y=10.0),\n",
       " Point(x=5.0, y=64.0),\n",
       " Point(x=30.0, y=15.0),\n",
       " Point(x=39.0, y=10.0),\n",
       " Point(x=32.0, y=39.0),\n",
       " Point(x=25.0, y=32.0),\n",
       " Point(x=25.0, y=55.0),\n",
       " Point(x=48.0, y=28.0),\n",
       " Point(x=56.0, y=37.0),\n",
       " Point(x=30.0, y=40.0),\n",
       " Point(x=37.0, y=52.0),\n",
       " Point(x=49.0, y=49.0),\n",
       " Point(x=52.0, y=64.0),\n",
       " Point(x=20.0, y=26.0),\n",
       " Point(x=40.0, y=30.0),\n",
       " Point(x=21.0, y=47.0),\n",
       " Point(x=17.0, y=63.0),\n",
       " Point(x=31.0, y=62.0),\n",
       " Point(x=52.0, y=33.0),\n",
       " Point(x=51.0, y=21.0),\n",
       " Point(x=42.0, y=41.0),\n",
       " Point(x=31.0, y=32.0),\n",
       " Point(x=5.0, y=25.0),\n",
       " Point(x=12.0, y=42.0),\n",
       " Point(x=36.0, y=16.0),\n",
       " Point(x=52.0, y=41.0),\n",
       " Point(x=27.0, y=23.0),\n",
       " Point(x=17.0, y=33.0),\n",
       " Point(x=13.0, y=13.0),\n",
       " Point(x=57.0, y=58.0),\n",
       " Point(x=62.0, y=42.0),\n",
       " Point(x=42.0, y=57.0),\n",
       " Point(x=16.0, y=57.0),\n",
       " Point(x=8.0, y=52.0),\n",
       " Point(x=7.0, y=38.0)]"
      ]
     },
     "execution_count": 10,
     "metadata": {},
     "output_type": "execute_result"
    }
   ],
   "source": [
    "points"
   ]
  },
  {
   "cell_type": "code",
   "execution_count": 11,
   "metadata": {},
   "outputs": [],
   "source": [
    "points_df = pd.DataFrame(points)"
   ]
  },
  {
   "cell_type": "code",
   "execution_count": 12,
   "metadata": {},
   "outputs": [
    {
     "data": {
      "text/html": [
       "<div>\n",
       "<style scoped>\n",
       "    .dataframe tbody tr th:only-of-type {\n",
       "        vertical-align: middle;\n",
       "    }\n",
       "\n",
       "    .dataframe tbody tr th {\n",
       "        vertical-align: top;\n",
       "    }\n",
       "\n",
       "    .dataframe thead th {\n",
       "        text-align: right;\n",
       "    }\n",
       "</style>\n",
       "<table border=\"1\" class=\"dataframe\">\n",
       "  <thead>\n",
       "    <tr style=\"text-align: right;\">\n",
       "      <th></th>\n",
       "      <th>x</th>\n",
       "      <th>y</th>\n",
       "    </tr>\n",
       "  </thead>\n",
       "  <tbody>\n",
       "    <tr>\n",
       "      <th>0</th>\n",
       "      <td>27.0</td>\n",
       "      <td>68.0</td>\n",
       "    </tr>\n",
       "    <tr>\n",
       "      <th>1</th>\n",
       "      <td>30.0</td>\n",
       "      <td>48.0</td>\n",
       "    </tr>\n",
       "    <tr>\n",
       "      <th>2</th>\n",
       "      <td>43.0</td>\n",
       "      <td>67.0</td>\n",
       "    </tr>\n",
       "    <tr>\n",
       "      <th>3</th>\n",
       "      <td>58.0</td>\n",
       "      <td>48.0</td>\n",
       "    </tr>\n",
       "    <tr>\n",
       "      <th>4</th>\n",
       "      <td>58.0</td>\n",
       "      <td>27.0</td>\n",
       "    </tr>\n",
       "  </tbody>\n",
       "</table>\n",
       "</div>"
      ],
      "text/plain": [
       "      x     y\n",
       "0  27.0  68.0\n",
       "1  30.0  48.0\n",
       "2  43.0  67.0\n",
       "3  58.0  48.0\n",
       "4  58.0  27.0"
      ]
     },
     "execution_count": 12,
     "metadata": {},
     "output_type": "execute_result"
    }
   ],
   "source": [
    "points_df.head()"
   ]
  },
  {
   "cell_type": "code",
   "execution_count": null,
   "metadata": {},
   "outputs": [],
   "source": [
    "create distance matrix to "
   ]
  },
  {
   "cell_type": "code",
   "execution_count": 13,
   "metadata": {},
   "outputs": [],
   "source": [
    "base_graph = nx.Graph()\n",
    "\n",
    "base_graph.add"
   ]
  }
 ],
 "metadata": {
  "kernelspec": {
   "display_name": "Python 2",
   "language": "python",
   "name": "python2"
  },
  "language_info": {
   "codemirror_mode": {
    "name": "ipython",
    "version": 2
   },
   "file_extension": ".py",
   "mimetype": "text/x-python",
   "name": "python",
   "nbconvert_exporter": "python",
   "pygments_lexer": "ipython2",
   "version": "2.7.16"
  }
 },
 "nbformat": 4,
 "nbformat_minor": 2
}
